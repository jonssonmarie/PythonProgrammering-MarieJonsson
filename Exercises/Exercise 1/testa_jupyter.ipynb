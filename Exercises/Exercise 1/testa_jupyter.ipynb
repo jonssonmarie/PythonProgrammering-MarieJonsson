{
 "cells": [
  {
   "cell_type": "code",
   "execution_count": 1,
   "source": [
    "name = \"Hello World\"\r\n",
    "print(f\"{name}\")"
   ],
   "outputs": [
    {
     "output_type": "stream",
     "name": "stdout",
     "text": [
      "Hello World\n"
     ]
    }
   ],
   "metadata": {}
  },
  {
   "cell_type": "code",
   "execution_count": 2,
   "source": [
    "message = \"hej svejs\"\r\n",
    "print(f\"{message} grabben\")"
   ],
   "outputs": [
    {
     "output_type": "stream",
     "name": "stdout",
     "text": [
      "hej svejs grabben\n"
     ]
    }
   ],
   "metadata": {}
  }
 ],
 "metadata": {
  "orig_nbformat": 4,
  "language_info": {
   "name": "python",
   "version": "3.9.6",
   "mimetype": "text/x-python",
   "codemirror_mode": {
    "name": "ipython",
    "version": 3
   },
   "pygments_lexer": "ipython3",
   "nbconvert_exporter": "python",
   "file_extension": ".py"
  },
  "kernelspec": {
   "name": "python3",
   "display_name": "Python 3.9.6 64-bit"
  },
  "interpreter": {
   "hash": "a5c25ec6de621718625bc6f82e24974e2a40365cdc947b8a6778fff489f0ad77"
  }
 },
 "nbformat": 4,
 "nbformat_minor": 2
}